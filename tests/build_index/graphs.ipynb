{
 "cells": [
  {
   "cell_type": "code",
   "execution_count": 1,
   "metadata": {},
   "outputs": [
    {
     "ename": "ModuleNotFoundError",
     "evalue": "No module named 'triesketch'",
     "output_type": "error",
     "traceback": [
      "\u001b[0;31m---------------------------------------------------------------------------\u001b[0m",
      "\u001b[0;31mModuleNotFoundError\u001b[0m                       Traceback (most recent call last)",
      "\u001b[0;32m/var/folders/75/vtpl7nf52c77nkvrgr4gt0180000gn/T/ipykernel_82508/691357314.py\u001b[0m in \u001b[0;36m<module>\u001b[0;34m\u001b[0m\n\u001b[1;32m      3\u001b[0m \u001b[0;32mimport\u001b[0m \u001b[0mitertools\u001b[0m\u001b[0;34m\u001b[0m\u001b[0;34m\u001b[0m\u001b[0m\n\u001b[1;32m      4\u001b[0m \u001b[0;32mimport\u001b[0m \u001b[0mpandas\u001b[0m \u001b[0;32mas\u001b[0m \u001b[0mpd\u001b[0m\u001b[0;34m\u001b[0m\u001b[0;34m\u001b[0m\u001b[0m\n\u001b[0;32m----> 5\u001b[0;31m \u001b[0;32mfrom\u001b[0m \u001b[0mtriesketch\u001b[0m\u001b[0;34m.\u001b[0m\u001b[0mutils\u001b[0m \u001b[0;32mimport\u001b[0m \u001b[0;34m*\u001b[0m\u001b[0;34m\u001b[0m\u001b[0;34m\u001b[0m\u001b[0m\n\u001b[0m",
      "\u001b[0;31mModuleNotFoundError\u001b[0m: No module named 'triesketch'"
     ]
    }
   ],
   "source": [
    "from pympler import asizeof\n",
    "import time\n",
    "import itertools\n",
    "import pandas as pd\n",
    "from triesketch.utils import *"
   ]
  },
  {
   "cell_type": "code",
   "execution_count": 2,
   "metadata": {},
   "outputs": [
    {
     "ename": "NameError",
     "evalue": "name 'get_tries' is not defined",
     "output_type": "error",
     "traceback": [
      "\u001b[0;31m---------------------------------------------------------------------------\u001b[0m",
      "\u001b[0;31mNameError\u001b[0m                                 Traceback (most recent call last)",
      "\u001b[0;32m/var/folders/75/vtpl7nf52c77nkvrgr4gt0180000gn/T/ipykernel_67027/537896415.py\u001b[0m in \u001b[0;36m<module>\u001b[0;34m\u001b[0m\n\u001b[1;32m      1\u001b[0m \u001b[0mgenome_files\u001b[0m \u001b[0;34m=\u001b[0m \u001b[0;34m[\u001b[0m\u001b[0;34mf'./data/chr22_parts/{i}.fa'\u001b[0m \u001b[0;32mfor\u001b[0m \u001b[0mi\u001b[0m \u001b[0;32min\u001b[0m \u001b[0mrange\u001b[0m\u001b[0;34m(\u001b[0m\u001b[0;36m1\u001b[0m\u001b[0;34m,\u001b[0m\u001b[0;36m11\u001b[0m\u001b[0;34m)\u001b[0m\u001b[0;34m]\u001b[0m \u001b[0;31m#replace with animal files\u001b[0m\u001b[0;34m\u001b[0m\u001b[0;34m\u001b[0m\u001b[0m\n\u001b[0;32m----> 2\u001b[0;31m \u001b[0m_\u001b[0m\u001b[0;34m,\u001b[0m \u001b[0mtrie_types\u001b[0m \u001b[0;34m=\u001b[0m \u001b[0mget_tries\u001b[0m\u001b[0;34m(\u001b[0m\u001b[0;34m)\u001b[0m\u001b[0;34m\u001b[0m\u001b[0;34m\u001b[0m\u001b[0m\n\u001b[0m",
      "\u001b[0;31mNameError\u001b[0m: name 'get_tries' is not defined"
     ]
    }
   ],
   "source": [
    "genome_files = [f'./data/chr22_parts/{i}.fa' for i in range(1,11)] #replace with animal files\n",
    "_, trie_types = get_tries()"
   ]
  },
  {
   "cell_type": "code",
   "execution_count": null,
   "metadata": {},
   "outputs": [],
   "source": [
    "def read_genome_kmers(genome_files, trie_types, k_value: int):\n",
    "    final_dict = {}\n",
    "    \n",
    "    for genome_file in genome_files:\n",
    "        final_dict[genome_file] = []  #Initialize empty list for each genome\n",
    "        \n",
    "        for trie_type in trie_types:\n",
    "            sequences = read_genome_file(genome_file)\n",
    "            \n",
    "            if not sequences:\n",
    "                print(f\"Error: No sequences found in '{genome_file}'.\")\n",
    "                final_dict[genome_file].append((trie_type, None))\n",
    "                continue\n",
    "            \n",
    "            kmers = generate_kmers(sequences, k_value)\n",
    "            \n",
    "            # Create trie based on trie_type\n",
    "            if trie_type == \"NaiveTrie\":\n",
    "                trie = NaiveTrie(keys=kmers)\n",
    "            elif trie_type == \"Trie\":\n",
    "                trie = Trie(keys=kmers)\n",
    "            elif trie_type == \"PytriciaTrie\":\n",
    "                trie = PytriciaTrie(keys=kmers)\n",
    "            elif trie_type == \"PatriciaTrie\":\n",
    "                trie = PatriciaTrie(keys=kmers)\n",
    "            elif trie_type == \"MarisaTrie\":\n",
    "                trie = MarisaTrie(keys=kmers)\n",
    "            elif trie_type == \"Dictionary\":\n",
    "                trie = Dictionary(keys=kmers)\n",
    "            else:\n",
    "                print(f\"Error: Invalid trie type '{trie_type}' specified.\")\n",
    "                final_dict[genome_file].append((trie_type, None))\n",
    "                continue\n",
    "            \n",
    "            final_dict[genome_file].append((trie_type, trie))\n",
    "    \n",
    "    return final_dict\n",
    "\n",
    "        \n",
    "            "
   ]
  },
  {
   "cell_type": "code",
   "execution_count": null,
   "metadata": {},
   "outputs": [],
   "source": [
    "max_k_value = 21 #change k value later\n",
    "actual_loss = [] #fill in values later\n",
    "for i in range(max_k_value):\n",
    "    read_genome_kmers(genome_files, trie_types, i)"
   ]
  },
  {
   "cell_type": "code",
   "execution_count": null,
   "metadata": {},
   "outputs": [],
   "source": []
  },
  {
   "cell_type": "code",
   "execution_count": null,
   "metadata": {},
   "outputs": [],
   "source": []
  },
  {
   "cell_type": "code",
   "execution_count": null,
   "metadata": {},
   "outputs": [],
   "source": []
  }
 ],
 "metadata": {
  "kernelspec": {
   "display_name": "base",
   "language": "python",
   "name": "python3"
  },
  "language_info": {
   "codemirror_mode": {
    "name": "ipython",
    "version": 3
   },
   "file_extension": ".py",
   "mimetype": "text/x-python",
   "name": "python",
   "nbconvert_exporter": "python",
   "pygments_lexer": "ipython3",
   "version": "3.10.14"
  }
 },
 "nbformat": 4,
 "nbformat_minor": 2
}
