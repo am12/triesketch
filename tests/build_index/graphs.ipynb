{
 "cells": [
  {
   "cell_type": "code",
   "execution_count": 1,
   "metadata": {},
   "outputs": [
    {
     "ename": "ModuleNotFoundError",
     "evalue": "No module named 'triesketch'",
     "output_type": "error",
     "traceback": [
      "\u001b[0;31m---------------------------------------------------------------------------\u001b[0m",
      "\u001b[0;31mModuleNotFoundError\u001b[0m                       Traceback (most recent call last)",
      "\u001b[0;32m/var/folders/75/vtpl7nf52c77nkvrgr4gt0180000gn/T/ipykernel_82508/691357314.py\u001b[0m in \u001b[0;36m<module>\u001b[0;34m\u001b[0m\n\u001b[1;32m      3\u001b[0m \u001b[0;32mimport\u001b[0m \u001b[0mitertools\u001b[0m\u001b[0;34m\u001b[0m\u001b[0;34m\u001b[0m\u001b[0m\n\u001b[1;32m      4\u001b[0m \u001b[0;32mimport\u001b[0m \u001b[0mpandas\u001b[0m \u001b[0;32mas\u001b[0m \u001b[0mpd\u001b[0m\u001b[0;34m\u001b[0m\u001b[0;34m\u001b[0m\u001b[0m\n\u001b[0;32m----> 5\u001b[0;31m \u001b[0;32mfrom\u001b[0m \u001b[0mtriesketch\u001b[0m\u001b[0;34m.\u001b[0m\u001b[0mutils\u001b[0m \u001b[0;32mimport\u001b[0m \u001b[0;34m*\u001b[0m\u001b[0;34m\u001b[0m\u001b[0;34m\u001b[0m\u001b[0m\n\u001b[0m",
      "\u001b[0;31mModuleNotFoundError\u001b[0m: No module named 'triesketch'"
     ]
    }
   ],
   "source": [
    "from pympler import asizeof\n",
    "import time\n",
    "import itertools\n",
    "import pandas as pd\n",
    "from triesketch.utils import *"
   ]
  },
  {
   "cell_type": "code",
   "execution_count": 2,
   "metadata": {},
   "outputs": [
    {
     "ename": "NameError",
     "evalue": "name 'get_tries' is not defined",
     "output_type": "error",
     "traceback": [
      "\u001b[0;31m---------------------------------------------------------------------------\u001b[0m",
      "\u001b[0;31mNameError\u001b[0m                                 Traceback (most recent call last)",
      "\u001b[0;32m/var/folders/75/vtpl7nf52c77nkvrgr4gt0180000gn/T/ipykernel_67027/537896415.py\u001b[0m in \u001b[0;36m<module>\u001b[0;34m\u001b[0m\n\u001b[1;32m      1\u001b[0m \u001b[0mgenome_files\u001b[0m \u001b[0;34m=\u001b[0m \u001b[0;34m[\u001b[0m\u001b[0;34mf'./data/chr22_parts/{i}.fa'\u001b[0m \u001b[0;32mfor\u001b[0m \u001b[0mi\u001b[0m \u001b[0;32min\u001b[0m \u001b[0mrange\u001b[0m\u001b[0;34m(\u001b[0m\u001b[0;36m1\u001b[0m\u001b[0;34m,\u001b[0m\u001b[0;36m11\u001b[0m\u001b[0;34m)\u001b[0m\u001b[0;34m]\u001b[0m \u001b[0;31m#replace with animal files\u001b[0m\u001b[0;34m\u001b[0m\u001b[0;34m\u001b[0m\u001b[0m\n\u001b[0;32m----> 2\u001b[0;31m \u001b[0m_\u001b[0m\u001b[0;34m,\u001b[0m \u001b[0mtrie_types\u001b[0m \u001b[0;34m=\u001b[0m \u001b[0mget_tries\u001b[0m\u001b[0;34m(\u001b[0m\u001b[0;34m)\u001b[0m\u001b[0;34m\u001b[0m\u001b[0;34m\u001b[0m\u001b[0m\n\u001b[0m",
      "\u001b[0;31mNameError\u001b[0m: name 'get_tries' is not defined"
     ]
    }
   ],
   "source": [
    "genome_files = [f'./data/chr22_parts/{i}.fa' for i in range(1,11)] #replace with animal files\n",
    "_, trie_types = get_tries()"
   ]
  },
  {
   "cell_type": "code",
   "execution_count": null,
   "metadata": {},
   "outputs": [],
   "source": [
    "def read_genome_kmers(genome_files, trie_types, k_value: int):\n",
    "    final_dict = {}\n",
    "    \n",
    "    for genome_file in genome_files:\n",
    "        final_dict[genome_file] = []  #Initialize empty list for each genome\n",
    "        \n",
    "        for trie_type in trie_types:\n",
    "            sequences = read_genome_file(genome_file)\n",
    "            \n",
    "            if not sequences:\n",
    "                print(f\"Error: No sequences found in '{genome_file}'.\")\n",
    "                final_dict[genome_file].append((trie_type, None))\n",
    "                continue\n",
    "            \n",
    "            kmers = generate_kmers(sequences, k_value)\n",
    "            \n",
    "            # Create trie based on trie_type\n",
    "            if trie_type == \"NaiveTrie\":\n",
    "                trie = NaiveTrie(keys=kmers)\n",
    "            elif trie_type == \"Trie\":\n",
    "                trie = Trie(keys=kmers)\n",
    "            elif trie_type == \"PytriciaTrie\":\n",
    "                trie = PytriciaTrie(keys=kmers)\n",
    "            elif trie_type == \"PatriciaTrie\":\n",
    "                trie = PatriciaTrie(keys=kmers)\n",
    "            elif trie_type == \"MarisaTrie\":\n",
    "                trie = MarisaTrie(keys=kmers)\n",
    "            elif trie_type == \"Dictionary\":\n",
    "                trie = Dictionary(keys=kmers)\n",
    "            else:\n",
    "                print(f\"Error: Invalid trie type '{trie_type}' specified.\")\n",
    "                final_dict[genome_file].append((trie_type, None))\n",
    "                continue\n",
    "            \n",
    "            final_dict[genome_file].append((trie_type, trie))\n",
    "    \n",
    "    return final_dict\n",
    "            "
   ]
  },
  {
   "cell_type": "code",
   "execution_count": 4,
   "metadata": {},
   "outputs": [
    {
     "name": "stdout",
     "output_type": "stream",
     "text": [
      "Collecting decaf\n",
      "  Downloading DeCAF-2.0.0.tar.gz (17 kB)\n",
      "  Preparing metadata (setup.py) ... \u001b[?25ldone\n",
      "\u001b[?25hRequirement already satisfied: numpy>=1.6.2 in /opt/anaconda3/lib/python3.10/site-packages (from decaf) (1.26.4)\n",
      "Requirement already satisfied: scipy>=0.10 in /opt/anaconda3/lib/python3.10/site-packages (from decaf) (1.13.1)\n",
      "Requirement already satisfied: matplotlib>=1.3.1 in /opt/anaconda3/lib/python3.10/site-packages (from decaf) (3.9.2)\n",
      "Requirement already satisfied: contourpy>=1.0.1 in /opt/anaconda3/lib/python3.10/site-packages (from matplotlib>=1.3.1->decaf) (1.2.0)\n",
      "Requirement already satisfied: cycler>=0.10 in /opt/anaconda3/lib/python3.10/site-packages (from matplotlib>=1.3.1->decaf) (0.11.0)\n",
      "Requirement already satisfied: fonttools>=4.22.0 in /opt/anaconda3/lib/python3.10/site-packages (from matplotlib>=1.3.1->decaf) (4.51.0)\n",
      "Requirement already satisfied: kiwisolver>=1.3.1 in /opt/anaconda3/lib/python3.10/site-packages (from matplotlib>=1.3.1->decaf) (1.4.4)\n",
      "Requirement already satisfied: packaging>=20.0 in /opt/anaconda3/lib/python3.10/site-packages (from matplotlib>=1.3.1->decaf) (24.1)\n",
      "Requirement already satisfied: pillow>=8 in /opt/anaconda3/lib/python3.10/site-packages (from matplotlib>=1.3.1->decaf) (10.4.0)\n",
      "Requirement already satisfied: pyparsing>=2.3.1 in /opt/anaconda3/lib/python3.10/site-packages (from matplotlib>=1.3.1->decaf) (3.1.2)\n",
      "Requirement already satisfied: python-dateutil>=2.7 in /opt/anaconda3/lib/python3.10/site-packages (from matplotlib>=1.3.1->decaf) (2.9.0.post0)\n",
      "Requirement already satisfied: six>=1.5 in /opt/anaconda3/lib/python3.10/site-packages (from python-dateutil>=2.7->matplotlib>=1.3.1->decaf) (1.16.0)\n",
      "Building wheels for collected packages: decaf\n",
      "  Building wheel for decaf (setup.py) ... \u001b[?25ldone\n",
      "\u001b[?25h  Created wheel for decaf: filename=DeCAF-2.0.0-py3-none-any.whl size=20914 sha256=cd5cd5a46ef5c42884fe1f09c9a21f661a433ce90a336ba813158bee040f7480\n",
      "  Stored in directory: /Users/amyxing/Library/Caches/pip/wheels/6e/ee/14/1da681751565f315fd136613caa883b836a922f6a2dbb933dd\n",
      "Successfully built decaf\n",
      "Installing collected packages: decaf\n",
      "Successfully installed decaf-2.0.0\n",
      "Note: you may need to restart the kernel to use updated packages.\n"
     ]
    }
   ],
   "source": [
    "pip install decaf"
   ]
  },
  {
   "cell_type": "code",
   "execution_count": 8,
   "metadata": {},
   "outputs": [
    {
     "ename": "ImportError",
     "evalue": "cannot import name 'distance_methods' from 'decaf' (/opt/anaconda3/lib/python3.10/site-packages/decaf/__init__.py)",
     "output_type": "error",
     "traceback": [
      "\u001b[0;31m---------------------------------------------------------------------------\u001b[0m",
      "\u001b[0;31mImportError\u001b[0m                               Traceback (most recent call last)",
      "\u001b[0;32m/var/folders/75/vtpl7nf52c77nkvrgr4gt0180000gn/T/ipykernel_82508/2514523771.py\u001b[0m in \u001b[0;36m<module>\u001b[0;34m\u001b[0m\n\u001b[0;32m----> 1\u001b[0;31m \u001b[0;32mfrom\u001b[0m \u001b[0mdecaf\u001b[0m \u001b[0;32mimport\u001b[0m \u001b[0mdistance_methods\u001b[0m \u001b[0;32mas\u001b[0m \u001b[0mdm\u001b[0m\u001b[0;34m\u001b[0m\u001b[0;34m\u001b[0m\u001b[0m\n\u001b[0m\u001b[1;32m      2\u001b[0m \u001b[0;32mfrom\u001b[0m \u001b[0mdecaf\u001b[0m \u001b[0;32mimport\u001b[0m \u001b[0msequence_io\u001b[0m \u001b[0;32mas\u001b[0m \u001b[0msio\u001b[0m\u001b[0;34m\u001b[0m\u001b[0;34m\u001b[0m\u001b[0m\n",
      "\u001b[0;31mImportError\u001b[0m: cannot import name 'distance_methods' from 'decaf' (/opt/anaconda3/lib/python3.10/site-packages/decaf/__init__.py)"
     ]
    }
   ],
   "source": [
    "from decaf import distance_methods as dm\n",
    "from decaf import sequence_io as sio"
   ]
  },
  {
   "cell_type": "code",
   "execution_count": 9,
   "metadata": {},
   "outputs": [],
   "source": [
    "def calculate_pattern_based_distance(seq1, seq2):\n",
    "    sequences = [seq1, seq2]\n",
    "    distances = dm.pattern_based(sequences)\n",
    "    return distances[0][1]"
   ]
  },
  {
   "cell_type": "code",
   "execution_count": null,
   "metadata": {},
   "outputs": [],
   "source": [
    "max_k_value = 21 #change k value later\n",
    "actual_loss = [] #fill in values later\n",
    "for i in range(max_k_value):\n",
    "    dictionary = read_genome_kmers(genome_files, trie_types, i)"
   ]
  },
  {
   "cell_type": "code",
   "execution_count": null,
   "metadata": {},
   "outputs": [],
   "source": []
  },
  {
   "cell_type": "code",
   "execution_count": null,
   "metadata": {},
   "outputs": [],
   "source": []
  },
  {
   "cell_type": "code",
   "execution_count": null,
   "metadata": {},
   "outputs": [],
   "source": []
  },
  {
   "cell_type": "code",
   "execution_count": null,
   "metadata": {},
   "outputs": [],
   "source": []
  }
 ],
 "metadata": {
  "kernelspec": {
   "display_name": "base",
   "language": "python",
   "name": "python3"
  },
  "language_info": {
   "codemirror_mode": {
    "name": "ipython",
    "version": 3
   },
   "file_extension": ".py",
   "mimetype": "text/x-python",
   "name": "python",
   "nbconvert_exporter": "python",
   "pygments_lexer": "ipython3",
   "version": "3.10.14"
  }
 },
 "nbformat": 4,
 "nbformat_minor": 2
}
